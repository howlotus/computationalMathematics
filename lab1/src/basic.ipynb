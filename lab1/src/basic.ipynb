{
 "cells": [
  {
   "cell_type": "code",
   "execution_count": 19,
   "id": "dcd192be-3710-47b9-b079-b27c8f36b948",
   "metadata": {},
   "outputs": [],
   "source": [
    "import numpy as np\n",
    "import matplotlib.pyplot as plt"
   ]
  },
  {
   "cell_type": "code",
   "execution_count": 20,
   "id": "04cccb31-84e9-49cf-8e0f-65f0d7548471",
   "metadata": {},
   "outputs": [],
   "source": [
    "def qubic_spline_coeff(x_nodes, y_nodes):\n",
    "    n = len(x_nodes)\n",
    "    \n",
    "    h = [] #список значений h\n",
    "    for i in range(0, n - 1):\n",
    "        t = np.around(x_nodes[i + 1] - x_nodes[i], decimals = 3)\n",
    "        h.append(t)\n",
    "    \n",
    "    ta = [1] #главная диагональ матрицы A \n",
    "    tb = []  #диагональ ниже главной\n",
    "    tc = [0] #диагональ выше главной\n",
    "    for i in range(0, n - 2):\n",
    "        t1 = 2 * (h[i + 1] + h[i])\n",
    "        t2 = h[i]\n",
    "        t3 = h[i + 1]\n",
    "        ta.append(t1)\n",
    "        tb.append(t2)\n",
    "        tc.append(t3)\n",
    "    ta.append(1)\n",
    "    tb.append(0)\n",
    "    \n",
    "    tta = np.diag(ta, 0)    #матрица с заполненной главной диагональю, остальное - 0\n",
    "    ttb = np.diag(tb, -1)   #матрица с заполненной диагональю на одну ниже главной\n",
    "    ttc = np.diag(tc, 1)    #матрица с заполненной диагональю на одну выше главной\n",
    "    A = tta + ttb + ttc     #складываем все три матрциы и получаем матрицу A\n",
    "    revA = np.linalg.inv(A) #находим обратную матрицу A\\^\\ (-1)\n",
    "    \n",
    "    F = np.zeros(shape = (n, 1)) #получим матрицу F\n",
    "    for i in range(1, n - 1):\n",
    "        t1 = y_nodes[i + 1] - y_nodes[i]\n",
    "        t2 = y_nodes[i] - y_nodes[i - 1]\n",
    "        F[i][0] = 3 * (t1 / h[i] - t2 / h[i - 1])\n",
    "    \n",
    "    c = np.dot(revA, F) #находим произведение матриц A\\^\\ (-1)*F как матрицу коэффициентов c\n",
    "    \n",
    "    a = np.zeros(shape = (n - 1, 1))\n",
    "    b = np.zeros(shape = (n - 1, 1))\n",
    "    d = np.zeros(shape = (n - 1, 1))\n",
    "    for i in range(0, n - 1):\n",
    "        a[i][0] = y_nodes[i]\n",
    "        b[i][0] = (1 / h[i]) * (y_nodes[i + 1] - y_nodes[i]) - h[i] / 3 * (c[i + 1] + 2 * c[i])\n",
    "        d[i][0] = (c[i + 1][0] - c[i][0]) / (3 * h[i])\n",
    "    \n",
    "    c = np.delete(c, obj = 10, axis = 0) #удаляем последний элемент матрицы, так как тот лишний\n",
    "\n",
    "    coeffs = np.c_[a, b, c, d]\n",
    "    \n",
    "    return coeffs"
   ]
  },
  {
   "cell_type": "code",
   "execution_count": 21,
   "id": "441bf835-963e-4767-b268-342ddba19e3e",
   "metadata": {},
   "outputs": [],
   "source": [
    "def qubic_spline(x_nodes, x, qs_coeff):\n",
    "    n = len(x_nodes)\n",
    "    \n",
    "    for i in range(0, n - 1):\n",
    "        if x >= x_nodes[i] and x <= x_nodes[i + 1]:\n",
    "            a = qs_coeff[i][0]\n",
    "            b = qs_coeff[i][1]\n",
    "            c = qs_coeff[i][2]\n",
    "            d = qs_coeff[i][3]\n",
    "            difX = x - x_nodes[i]\n",
    "            s_x = a + b * difX + c * difX * difX + d * difX * difX * difX\n",
    "            \n",
    "    return s_x"
   ]
  },
  {
   "cell_type": "code",
   "execution_count": 22,
   "id": "77850a73-75bd-4514-9a6f-ec94211630e2",
   "metadata": {},
   "outputs": [],
   "source": [
    "def d_qubic_spline(x_nodes, x, qs_coeff):\n",
    "    n = len(x_nodes)\n",
    "    \n",
    "    for i in range(0, n - 1):\n",
    "        if x >= x_nodes[i] and x <= x_nodes[i + 1]:\n",
    "            b = qs_coeff[i][1]\n",
    "            c = qs_coeff[i][2]\n",
    "            d = qs_coeff[i][3]\n",
    "            difX = x - x_nodes[i]\n",
    "            d_s_x = b + 2 * c * difX + 3 * d * difX * difX\n",
    "            \n",
    "    return d_s_x"
   ]
  },
  {
   "cell_type": "code",
   "execution_count": 29,
   "id": "86d45268-d543-402b-a554-a9500aa23033",
   "metadata": {},
   "outputs": [],
   "source": [
    "def plotDataAndInterpolant(x_nodes, y_nodes):\n",
    "    qs_coeff = qubic_spline_coeff(x_nodes, y_nodes)\n",
    "    \n",
    "    fig, ax = plt.subplots(figsize=(12, 6))\n",
    "    x_for_plotting = np.linspace(0, 1, 1000)\n",
    "    \n",
    "    ax.set_xlabel('x', fontsize = 'x-large')\n",
    "    ax.set_ylabel('h(x)', fontsize = 'x-large')\n",
    "    ax.plot(x_for_plotting, [qubic_spline(x_nodes, x, qs_coeff) for x in x_for_plotting], '-', color = 'darkgrey', linewidth = 4)\n",
    "    ax.plot(x_nodes, y_nodes, 'ro', markersize = 10)\n",
    "    \n",
    "    ax.grid(True)\n",
    "    plt.savefig('basic.pdf')"
   ]
  },
  {
   "cell_type": "code",
   "execution_count": 30,
   "id": "38dac29b-2755-49ff-b969-6a43345ef858",
   "metadata": {},
   "outputs": [
    {
     "data": {
      "image/png": "[encoded data removed]",
      "text/plain": [
       "<Figure size 864x432 with 1 Axes>"
      ]
     },
     "metadata": {
      "needs_background": "light"
     },
     "output_type": "display_data"
    }
   ],
   "source": [
    "if __name__ == '__main__':\n",
    "    x_nodes = [0, 0.1, 0.2, 0.3, 0.4, 0.5, 0.6, 0.7, 0.8, 0.9, 1]\n",
    "    y_nodes = [3.37, 3.95, 3.73, 3.59, 3.15, 3.15, 3.05, 3.86, 3.60, 3.70, 3.02]\n",
    "\n",
    "    plotDataAndInterpolant(x_nodes, y_nodes)"
   ]
  },
  {
   "cell_type": "code",
   "execution_count": null,
   "id": "db017064-9073-41cc-9eed-3f3a20ca260d",
   "metadata": {},
   "outputs": [],
   "source": []
  }
 ],
 "metadata": {
  "kernelspec": {
   "display_name": "Python 3 (ipykernel)",
   "language": "python",
   "name": "python3"
  },
  "language_info": {
   "codemirror_mode": {
    "name": "ipython",
    "version": 3
   },
   "file_extension": ".py",
   "mimetype": "text/x-python",
   "name": "python",
   "nbconvert_exporter": "python",
   "pygments_lexer": "ipython3",
   "version": "3.9.7"
  }
 },
 "nbformat": 4,
 "nbformat_minor": 5
}
