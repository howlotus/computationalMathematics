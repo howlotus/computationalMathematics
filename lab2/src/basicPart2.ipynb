{
 "cells": [
  {
   "cell_type": "code",
   "execution_count": 1,
   "id": "d28bbc7a-be7f-41d5-9178-2a856105234c",
   "metadata": {},
   "outputs": [],
   "source": [
    "import numpy as np\n",
    "import matplotlib.pyplot as plt\n",
    "\n",
    "dots = 10000\n",
    "x_nodes = []\n",
    "qs_coeff = np.zeros(shape=(1, 1))"
   ]
  },
  {
   "cell_type": "code",
   "execution_count": 2,
   "id": "fa34964c-123b-469b-a9c7-c6cb6b4e89f8",
   "metadata": {},
   "outputs": [],
   "source": [
    "def qubic_spline_coeff(x_nodes, y_nodes):\n",
    "    n = len(x_nodes)\n",
    "    \n",
    "    h = [] #список значений h\n",
    "    for i in range(0, n - 1):\n",
    "        t = np.around(x_nodes[i + 1] - x_nodes[i], decimals = 6)\n",
    "        h.append(t)\n",
    "    \n",
    "    ta = [1] #главная диагональ матрицы A \n",
    "    tb = []  #диагональ ниже главной\n",
    "    tc = [0] #диагональ выше главной\n",
    "    for i in range(0, n - 2):\n",
    "        t1 = 2 * (h[i + 1] + h[i])\n",
    "        t2 = h[i]\n",
    "        t3 = h[i + 1]\n",
    "        ta.append(t1)\n",
    "        tb.append(t2)\n",
    "        tc.append(t3)\n",
    "    ta.append(1)\n",
    "    tb.append(0)\n",
    "    tta = np.diag(ta, 0)    #матрица с заполненной главной диагональю, остальное - 0\n",
    "    ttb = np.diag(tb, -1)   #матрица с заполненной диагональю на одну ниже главной\n",
    "    ttc = np.diag(tc, 1)    #матрица с заполненной диагональю на одну выше главной\n",
    "    A = tta + ttb + ttc     #складываем все три матрциы и получаем матрицу A\n",
    "    revA = np.linalg.inv(A) #находим обратную матрицу A\\^\\ (-1)\n",
    "    \n",
    "    F = np.zeros(shape = (n, 1)) #получим матрицу F\n",
    "    for i in range(1, n - 1):\n",
    "        t1 = y_nodes[i + 1] - y_nodes[i]\n",
    "        t2 = y_nodes[i] - y_nodes[i - 1]\n",
    "        F[i][0] = 3 * (t1 / h[i] - t2 / h[i - 1])\n",
    "    \n",
    "    c = np.dot(revA, F) #находим произведение матриц A\\^\\ (-1)*F как матрицу коэффициентов c\n",
    "    \n",
    "    a = np.zeros(shape = (n - 1, 1))\n",
    "    b = np.zeros(shape = (n - 1, 1))\n",
    "    d = np.zeros(shape = (n - 1, 1))\n",
    "    for i in range(0, n - 1):\n",
    "        a[i][0] = y_nodes[i]\n",
    "        b[i][0] = (1 / h[i]) * (y_nodes[i + 1] - y_nodes[i]) - h[i] / 3 * (c[i + 1] + 2 * c[i])\n",
    "        d[i][0] = (c[i + 1][0] - c[i][0]) / (3 * h[i])\n",
    "    \n",
    "    c = np.delete(c, obj = 10, axis = 0) #удаляем последний элемент матрицы, так как тот лишний\n",
    "\n",
    "    coeffs = np.c_[a, b, c, d]\n",
    "    \n",
    "    return coeffs"
   ]
  },
  {
   "cell_type": "code",
   "execution_count": 3,
   "id": "9d14cf72-c85f-435b-87a5-a3c53173bef5",
   "metadata": {},
   "outputs": [],
   "source": [
    "def qubic_spline(x_nodes, x, qs_coeff):\n",
    "    i = int(x * 500)\n",
    "    if i == 1000:\n",
    "        i -= 1\n",
    "        \n",
    "    a = qs_coeff[i][0]\n",
    "    b = qs_coeff[i][1]\n",
    "    c = qs_coeff[i][2]\n",
    "    d = qs_coeff[i][3]\n",
    "    difX = x - x_nodes[i]\n",
    "    s_x = a + b * difX + c * difX ** 2 + d * difX ** 3\n",
    "            \n",
    "    return s_x"
   ]
  },
  {
   "cell_type": "code",
   "execution_count": 4,
   "id": "67d661a0-4b88-4524-bbef-eb30c6ff98b5",
   "metadata": {},
   "outputs": [],
   "source": [
    "def y_function_approx(x):\n",
    "    C = 1.03439984\n",
    "    \n",
    "    eps = 1\n",
    "    t = 0\n",
    "    while eps >= 0.000000000001:\n",
    "        while C * (t - (1. / 2) * np.sin(2 * t)) <= x:\n",
    "            t += eps\n",
    "        t -= eps\n",
    "        eps /= 10\n",
    "        \n",
    "    y = C * (1. / 2) * (1 - np.cos(2 * t))\n",
    "    \n",
    "    return y"
   ]
  },
  {
   "cell_type": "code",
   "execution_count": 5,
   "id": "b07582d8-c893-4f84-abdd-9ce30c3c8f72",
   "metadata": {},
   "outputs": [],
   "source": [
    "def composite_simpson(a, b, n, f):\n",
    "    n += (n + 1) % 2\n",
    "    \n",
    "    pr = n - 1\n",
    "    h = (b - a) / pr\n",
    "    x = a + h                  #x_2\n",
    "    \n",
    "    sum1 = 0\n",
    "    sum2 = f(x)                #f(x_2)\n",
    "    for i in range(1, pr // 2):\n",
    "        x += 2 * h\n",
    "        sum1 += f(x - h)       #f(x_3),f(x_5), ...\n",
    "        sum2 += f(x)           #f(x_4),f(x_6), ...\n",
    "        \n",
    "    result = (h / 3) * (f(a) + 2 * sum1 + 4 * sum2 + f(b))\n",
    "    \n",
    "    return result"
   ]
  },
  {
   "cell_type": "code",
   "execution_count": 6,
   "id": "8899829f-560c-48b8-a5ef-b8184876eb35",
   "metadata": {},
   "outputs": [],
   "source": [
    "def composite_trapezoid(a, b, n, f):\n",
    "    pr = n - 1\n",
    "    \n",
    "    h = (b - a) / pr\n",
    "    x = a\n",
    "    \n",
    "    sum0 = 0\n",
    "    for i in range(2, pr + 1):\n",
    "        x += h\n",
    "        sum0 += f(x)\n",
    "        \n",
    "    result = (h / 2) * (f(a) + 2 * sum0 + f(b))\n",
    "    \n",
    "    return result"
   ]
  },
  {
   "cell_type": "code",
   "execution_count": 7,
   "id": "8bc8d599-9e58-468d-8fd5-6bcdc8cc7243",
   "metadata": {},
   "outputs": [],
   "source": [
    "def under_integral_function(x):\n",
    "    global x_nodes, qs_coeff\n",
    "    \n",
    "    return 1 / qubic_spline(x_nodes, x, qs_coeff)"
   ]
  },
  {
   "cell_type": "code",
   "execution_count": 8,
   "id": "632e3e17-a542-4740-9707-046c329f0224",
   "metadata": {},
   "outputs": [],
   "source": [
    "def error_for_function(a, b, n, func):\n",
    "    global dots\n",
    "    \n",
    "    ta = 1 / dots \n",
    "    C = 1.03439984\n",
    "    g = 9.81\n",
    "    T = 1.75418438\n",
    "    \n",
    "    exact_integral = np.sqrt(2 * C / g) * (T - ta)\n",
    "    qq = np.sqrt(C / (2 * g))\n",
    "    \n",
    "    er0 = np.abs(exact_integral - qq * func(a, b, n, under_integral_function))\n",
    "    \n",
    "    return er0"
   ]
  },
  {
   "cell_type": "code",
   "execution_count": 9,
   "id": "a4e4b63c-6942-405f-a3a0-7b08c7c8fdf8",
   "metadata": {},
   "outputs": [],
   "source": [
    "def nodes_creation(a, b):\n",
    "    global x_nodes, qs_coeff\n",
    "    \n",
    "    x_nodes = []\n",
    "    y_nodes = []\n",
    "    \n",
    "    h = (b - a) / 1000\n",
    "    for i in range(0, 1001):\n",
    "        x_nodes.append(np.around(a + i * h, decimals=3))\n",
    "        y_nodes.append(y_function_approx(x_nodes[i]))\n",
    "    \n",
    "    qs_coeff = qubic_spline_coeff(x_nodes, y_nodes)"
   ]
  },
  {
   "cell_type": "code",
   "execution_count": 13,
   "id": "b5c5f262-b599-4412-a90f-ca924dd3bec5",
   "metadata": {},
   "outputs": [],
   "source": [
    "def plotParagraph3():\n",
    "    global dots\n",
    "    fig, ax = plt.subplots(figsize=(12, 8))\n",
    "     \n",
    "    n = np.linspace(3, 9999, 9997, dtype=int)\n",
    "    a = 1 / dots\n",
    "    b = 2\n",
    "    nodes_creation(a, b)\n",
    "    ax.loglog((b - a) / (n - 1), [error_for_function(a, b, n_, composite_simpson) for n_ in n], 'o', label='simpson', markersize = 2)\n",
    "    ax.loglog((b - a) / (n - 1), [error_for_function(a, b, n_, composite_trapezoid) for n_ in n], 'o', label='trapezoid', markersize = 2)\n",
    "    \n",
    "    ax.grid(True)\n",
    "    ax.set_xlabel(r'$h$', fontsize=16)\n",
    "    ax.set_ylabel(r'$E$', fontsize=16)\n",
    "    ax.legend(fontsize=16)\n",
    "    \n",
    "    plt.savefig('basicPlot2.pdf')"
   ]
  },
  {
   "cell_type": "code",
   "execution_count": 12,
   "id": "d2b2899a-bb22-4b6e-a6ba-3d61f26cf90e",
   "metadata": {},
   "outputs": [
    {
     "ename": "KeyboardInterrupt",
     "evalue": "",
     "output_type": "error",
     "traceback": [
      "\u001B[1;31m-----------------------------------------------------------------\u001B[0m",
      "\u001B[1;31mKeyboardInterrupt\u001B[0m               Traceback (most recent call last)",
      "\u001B[1;32m~\\AppData\\Local\\Temp/ipykernel_35612/590330843.py\u001B[0m in \u001B[0;36m<module>\u001B[1;34m\u001B[0m\n\u001B[0;32m      1\u001B[0m \u001B[1;32mif\u001B[0m \u001B[0m__name__\u001B[0m \u001B[1;33m==\u001B[0m \u001B[1;34m'__main__'\u001B[0m\u001B[1;33m:\u001B[0m\u001B[1;33m\u001B[0m\u001B[1;33m\u001B[0m\u001B[0m\n\u001B[1;32m----> 2\u001B[1;33m     \u001B[0mplotParagraph3\u001B[0m\u001B[1;33m(\u001B[0m\u001B[1;33m)\u001B[0m\u001B[1;33m\u001B[0m\u001B[1;33m\u001B[0m\u001B[0m\n\u001B[0m",
      "\u001B[1;32m~\\AppData\\Local\\Temp/ipykernel_35612/2818833797.py\u001B[0m in \u001B[0;36mplotParagraph3\u001B[1;34m()\u001B[0m\n\u001B[0;32m      7\u001B[0m     \u001B[0mb\u001B[0m \u001B[1;33m=\u001B[0m \u001B[1;36m2\u001B[0m\u001B[1;33m\u001B[0m\u001B[1;33m\u001B[0m\u001B[0m\n\u001B[0;32m      8\u001B[0m     \u001B[0mnodes_creation\u001B[0m\u001B[1;33m(\u001B[0m\u001B[0ma\u001B[0m\u001B[1;33m,\u001B[0m \u001B[0mb\u001B[0m\u001B[1;33m)\u001B[0m\u001B[1;33m\u001B[0m\u001B[1;33m\u001B[0m\u001B[0m\n\u001B[1;32m----> 9\u001B[1;33m     \u001B[0max\u001B[0m\u001B[1;33m.\u001B[0m\u001B[0mloglog\u001B[0m\u001B[1;33m(\u001B[0m\u001B[1;33m(\u001B[0m\u001B[0mb\u001B[0m \u001B[1;33m-\u001B[0m \u001B[0ma\u001B[0m\u001B[1;33m)\u001B[0m \u001B[1;33m/\u001B[0m \u001B[1;33m(\u001B[0m\u001B[0mn\u001B[0m \u001B[1;33m-\u001B[0m \u001B[1;36m1\u001B[0m\u001B[1;33m)\u001B[0m\u001B[1;33m,\u001B[0m \u001B[1;33m[\u001B[0m\u001B[0merror_for_function\u001B[0m\u001B[1;33m(\u001B[0m\u001B[0ma\u001B[0m\u001B[1;33m,\u001B[0m \u001B[0mb\u001B[0m\u001B[1;33m,\u001B[0m \u001B[0mn_\u001B[0m\u001B[1;33m,\u001B[0m \u001B[0mcomposite_simpson\u001B[0m\u001B[1;33m)\u001B[0m \u001B[1;32mfor\u001B[0m \u001B[0mn_\u001B[0m \u001B[1;32min\u001B[0m \u001B[0mn\u001B[0m\u001B[1;33m]\u001B[0m\u001B[1;33m,\u001B[0m \u001B[1;34m'o'\u001B[0m\u001B[1;33m,\u001B[0m \u001B[0mlabel\u001B[0m\u001B[1;33m=\u001B[0m\u001B[1;34m'simpson'\u001B[0m\u001B[1;33m,\u001B[0m \u001B[0mmarkersize\u001B[0m \u001B[1;33m=\u001B[0m \u001B[1;36m2\u001B[0m\u001B[1;33m)\u001B[0m\u001B[1;33m\u001B[0m\u001B[1;33m\u001B[0m\u001B[0m\n\u001B[0m\u001B[0;32m     10\u001B[0m     \u001B[0max\u001B[0m\u001B[1;33m.\u001B[0m\u001B[0mloglog\u001B[0m\u001B[1;33m(\u001B[0m\u001B[1;33m(\u001B[0m\u001B[0mb\u001B[0m \u001B[1;33m-\u001B[0m \u001B[0ma\u001B[0m\u001B[1;33m)\u001B[0m \u001B[1;33m/\u001B[0m \u001B[1;33m(\u001B[0m\u001B[0mn\u001B[0m \u001B[1;33m-\u001B[0m \u001B[1;36m1\u001B[0m\u001B[1;33m)\u001B[0m\u001B[1;33m,\u001B[0m \u001B[1;33m[\u001B[0m\u001B[0merror_for_function\u001B[0m\u001B[1;33m(\u001B[0m\u001B[0ma\u001B[0m\u001B[1;33m,\u001B[0m \u001B[0mb\u001B[0m\u001B[1;33m,\u001B[0m \u001B[0mn_\u001B[0m\u001B[1;33m,\u001B[0m \u001B[0mcomposite_trapezoid\u001B[0m\u001B[1;33m)\u001B[0m \u001B[1;32mfor\u001B[0m \u001B[0mn_\u001B[0m \u001B[1;32min\u001B[0m \u001B[0mn\u001B[0m\u001B[1;33m]\u001B[0m\u001B[1;33m,\u001B[0m \u001B[1;34m'o'\u001B[0m\u001B[1;33m,\u001B[0m \u001B[0mlabel\u001B[0m\u001B[1;33m=\u001B[0m\u001B[1;34m'trapezoid'\u001B[0m\u001B[1;33m,\u001B[0m \u001B[0mmarkersize\u001B[0m \u001B[1;33m=\u001B[0m \u001B[1;36m2\u001B[0m\u001B[1;33m)\u001B[0m\u001B[1;33m\u001B[0m\u001B[1;33m\u001B[0m\u001B[0m\n\u001B[0;32m     11\u001B[0m \u001B[1;33m\u001B[0m\u001B[0m\n",
      "\u001B[1;32m~\\AppData\\Local\\Temp/ipykernel_35612/2818833797.py\u001B[0m in \u001B[0;36m<listcomp>\u001B[1;34m(.0)\u001B[0m\n\u001B[0;32m      7\u001B[0m     \u001B[0mb\u001B[0m \u001B[1;33m=\u001B[0m \u001B[1;36m2\u001B[0m\u001B[1;33m\u001B[0m\u001B[1;33m\u001B[0m\u001B[0m\n\u001B[0;32m      8\u001B[0m     \u001B[0mnodes_creation\u001B[0m\u001B[1;33m(\u001B[0m\u001B[0ma\u001B[0m\u001B[1;33m,\u001B[0m \u001B[0mb\u001B[0m\u001B[1;33m)\u001B[0m\u001B[1;33m\u001B[0m\u001B[1;33m\u001B[0m\u001B[0m\n\u001B[1;32m----> 9\u001B[1;33m     \u001B[0max\u001B[0m\u001B[1;33m.\u001B[0m\u001B[0mloglog\u001B[0m\u001B[1;33m(\u001B[0m\u001B[1;33m(\u001B[0m\u001B[0mb\u001B[0m \u001B[1;33m-\u001B[0m \u001B[0ma\u001B[0m\u001B[1;33m)\u001B[0m \u001B[1;33m/\u001B[0m \u001B[1;33m(\u001B[0m\u001B[0mn\u001B[0m \u001B[1;33m-\u001B[0m \u001B[1;36m1\u001B[0m\u001B[1;33m)\u001B[0m\u001B[1;33m,\u001B[0m \u001B[1;33m[\u001B[0m\u001B[0merror_for_function\u001B[0m\u001B[1;33m(\u001B[0m\u001B[0ma\u001B[0m\u001B[1;33m,\u001B[0m \u001B[0mb\u001B[0m\u001B[1;33m,\u001B[0m \u001B[0mn_\u001B[0m\u001B[1;33m,\u001B[0m \u001B[0mcomposite_simpson\u001B[0m\u001B[1;33m)\u001B[0m \u001B[1;32mfor\u001B[0m \u001B[0mn_\u001B[0m \u001B[1;32min\u001B[0m \u001B[0mn\u001B[0m\u001B[1;33m]\u001B[0m\u001B[1;33m,\u001B[0m \u001B[1;34m'o'\u001B[0m\u001B[1;33m,\u001B[0m \u001B[0mlabel\u001B[0m\u001B[1;33m=\u001B[0m\u001B[1;34m'simpson'\u001B[0m\u001B[1;33m,\u001B[0m \u001B[0mmarkersize\u001B[0m \u001B[1;33m=\u001B[0m \u001B[1;36m2\u001B[0m\u001B[1;33m)\u001B[0m\u001B[1;33m\u001B[0m\u001B[1;33m\u001B[0m\u001B[0m\n\u001B[0m\u001B[0;32m     10\u001B[0m     \u001B[0max\u001B[0m\u001B[1;33m.\u001B[0m\u001B[0mloglog\u001B[0m\u001B[1;33m(\u001B[0m\u001B[1;33m(\u001B[0m\u001B[0mb\u001B[0m \u001B[1;33m-\u001B[0m \u001B[0ma\u001B[0m\u001B[1;33m)\u001B[0m \u001B[1;33m/\u001B[0m \u001B[1;33m(\u001B[0m\u001B[0mn\u001B[0m \u001B[1;33m-\u001B[0m \u001B[1;36m1\u001B[0m\u001B[1;33m)\u001B[0m\u001B[1;33m,\u001B[0m \u001B[1;33m[\u001B[0m\u001B[0merror_for_function\u001B[0m\u001B[1;33m(\u001B[0m\u001B[0ma\u001B[0m\u001B[1;33m,\u001B[0m \u001B[0mb\u001B[0m\u001B[1;33m,\u001B[0m \u001B[0mn_\u001B[0m\u001B[1;33m,\u001B[0m \u001B[0mcomposite_trapezoid\u001B[0m\u001B[1;33m)\u001B[0m \u001B[1;32mfor\u001B[0m \u001B[0mn_\u001B[0m \u001B[1;32min\u001B[0m \u001B[0mn\u001B[0m\u001B[1;33m]\u001B[0m\u001B[1;33m,\u001B[0m \u001B[1;34m'o'\u001B[0m\u001B[1;33m,\u001B[0m \u001B[0mlabel\u001B[0m\u001B[1;33m=\u001B[0m\u001B[1;34m'trapezoid'\u001B[0m\u001B[1;33m,\u001B[0m \u001B[0mmarkersize\u001B[0m \u001B[1;33m=\u001B[0m \u001B[1;36m2\u001B[0m\u001B[1;33m)\u001B[0m\u001B[1;33m\u001B[0m\u001B[1;33m\u001B[0m\u001B[0m\n\u001B[0;32m     11\u001B[0m \u001B[1;33m\u001B[0m\u001B[0m\n",
      "\u001B[1;32m~\\AppData\\Local\\Temp/ipykernel_35612/4157958157.py\u001B[0m in \u001B[0;36merror_for_function\u001B[1;34m(a, b, n, func)\u001B[0m\n\u001B[0;32m     10\u001B[0m     \u001B[0mqq\u001B[0m \u001B[1;33m=\u001B[0m \u001B[0mnp\u001B[0m\u001B[1;33m.\u001B[0m\u001B[0msqrt\u001B[0m\u001B[1;33m(\u001B[0m\u001B[0mC\u001B[0m \u001B[1;33m/\u001B[0m \u001B[1;33m(\u001B[0m\u001B[1;36m2\u001B[0m \u001B[1;33m*\u001B[0m \u001B[0mg\u001B[0m\u001B[1;33m)\u001B[0m\u001B[1;33m)\u001B[0m\u001B[1;33m\u001B[0m\u001B[1;33m\u001B[0m\u001B[0m\n\u001B[0;32m     11\u001B[0m \u001B[1;33m\u001B[0m\u001B[0m\n\u001B[1;32m---> 12\u001B[1;33m     \u001B[0mer0\u001B[0m \u001B[1;33m=\u001B[0m \u001B[0mnp\u001B[0m\u001B[1;33m.\u001B[0m\u001B[0mabs\u001B[0m\u001B[1;33m(\u001B[0m\u001B[0mexact_integral\u001B[0m \u001B[1;33m-\u001B[0m \u001B[0mqq\u001B[0m \u001B[1;33m*\u001B[0m \u001B[0mfunc\u001B[0m\u001B[1;33m(\u001B[0m\u001B[0ma\u001B[0m\u001B[1;33m,\u001B[0m \u001B[0mb\u001B[0m\u001B[1;33m,\u001B[0m \u001B[0mn\u001B[0m\u001B[1;33m,\u001B[0m \u001B[0munder_integral_function\u001B[0m\u001B[1;33m)\u001B[0m\u001B[1;33m)\u001B[0m\u001B[1;33m\u001B[0m\u001B[1;33m\u001B[0m\u001B[0m\n\u001B[0m\u001B[0;32m     13\u001B[0m \u001B[1;33m\u001B[0m\u001B[0m\n\u001B[0;32m     14\u001B[0m     \u001B[1;32mreturn\u001B[0m \u001B[0mer0\u001B[0m\u001B[1;33m\u001B[0m\u001B[1;33m\u001B[0m\u001B[0m\n",
      "\u001B[1;32m~\\AppData\\Local\\Temp/ipykernel_35612/1155751355.py\u001B[0m in \u001B[0;36mcomposite_simpson\u001B[1;34m(a, b, n, f)\u001B[0m\n\u001B[0;32m     10\u001B[0m     \u001B[1;32mfor\u001B[0m \u001B[0mi\u001B[0m \u001B[1;32min\u001B[0m \u001B[0mrange\u001B[0m\u001B[1;33m(\u001B[0m\u001B[1;36m1\u001B[0m\u001B[1;33m,\u001B[0m \u001B[0mpr\u001B[0m \u001B[1;33m//\u001B[0m \u001B[1;36m2\u001B[0m\u001B[1;33m)\u001B[0m\u001B[1;33m:\u001B[0m\u001B[1;33m\u001B[0m\u001B[1;33m\u001B[0m\u001B[0m\n\u001B[0;32m     11\u001B[0m         \u001B[0mx\u001B[0m \u001B[1;33m+=\u001B[0m \u001B[1;36m2\u001B[0m \u001B[1;33m*\u001B[0m \u001B[0mh\u001B[0m\u001B[1;33m\u001B[0m\u001B[1;33m\u001B[0m\u001B[0m\n\u001B[1;32m---> 12\u001B[1;33m         \u001B[0msum1\u001B[0m \u001B[1;33m+=\u001B[0m \u001B[0mf\u001B[0m\u001B[1;33m(\u001B[0m\u001B[0mx\u001B[0m \u001B[1;33m-\u001B[0m \u001B[0mh\u001B[0m\u001B[1;33m)\u001B[0m       \u001B[1;31m#f(x_3),f(x_5), ...\u001B[0m\u001B[1;33m\u001B[0m\u001B[1;33m\u001B[0m\u001B[0m\n\u001B[0m\u001B[0;32m     13\u001B[0m         \u001B[0msum2\u001B[0m \u001B[1;33m+=\u001B[0m \u001B[0mf\u001B[0m\u001B[1;33m(\u001B[0m\u001B[0mx\u001B[0m\u001B[1;33m)\u001B[0m           \u001B[1;31m#f(x_4),f(x_6), ...\u001B[0m\u001B[1;33m\u001B[0m\u001B[1;33m\u001B[0m\u001B[0m\n\u001B[0;32m     14\u001B[0m \u001B[1;33m\u001B[0m\u001B[0m\n",
      "\u001B[1;32m~\\AppData\\Local\\Temp/ipykernel_35612/260024944.py\u001B[0m in \u001B[0;36munder_integral_function\u001B[1;34m(x)\u001B[0m\n\u001B[0;32m      2\u001B[0m     \u001B[1;32mglobal\u001B[0m \u001B[0mx_nodes\u001B[0m\u001B[1;33m,\u001B[0m \u001B[0mqs_coeff\u001B[0m\u001B[1;33m\u001B[0m\u001B[1;33m\u001B[0m\u001B[0m\n\u001B[0;32m      3\u001B[0m \u001B[1;33m\u001B[0m\u001B[0m\n\u001B[1;32m----> 4\u001B[1;33m     \u001B[1;32mreturn\u001B[0m \u001B[1;36m1\u001B[0m \u001B[1;33m/\u001B[0m \u001B[0mqubic_spline\u001B[0m\u001B[1;33m(\u001B[0m\u001B[0mx_nodes\u001B[0m\u001B[1;33m,\u001B[0m \u001B[0mx\u001B[0m\u001B[1;33m,\u001B[0m \u001B[0mqs_coeff\u001B[0m\u001B[1;33m)\u001B[0m\u001B[1;33m\u001B[0m\u001B[1;33m\u001B[0m\u001B[0m\n\u001B[0m",
      "\u001B[1;32m~\\AppData\\Local\\Temp/ipykernel_35612/555260927.py\u001B[0m in \u001B[0;36mqubic_spline\u001B[1;34m(x_nodes, x, qs_coeff)\u001B[0m\n\u001B[0;32m      9\u001B[0m     \u001B[0md\u001B[0m \u001B[1;33m=\u001B[0m \u001B[0mqs_coeff\u001B[0m\u001B[1;33m[\u001B[0m\u001B[0mi\u001B[0m\u001B[1;33m]\u001B[0m\u001B[1;33m[\u001B[0m\u001B[1;36m3\u001B[0m\u001B[1;33m]\u001B[0m\u001B[1;33m\u001B[0m\u001B[1;33m\u001B[0m\u001B[0m\n\u001B[0;32m     10\u001B[0m     \u001B[0mdifX\u001B[0m \u001B[1;33m=\u001B[0m \u001B[0mx\u001B[0m \u001B[1;33m-\u001B[0m \u001B[0mx_nodes\u001B[0m\u001B[1;33m[\u001B[0m\u001B[0mi\u001B[0m\u001B[1;33m]\u001B[0m\u001B[1;33m\u001B[0m\u001B[1;33m\u001B[0m\u001B[0m\n\u001B[1;32m---> 11\u001B[1;33m     \u001B[0ms_x\u001B[0m \u001B[1;33m=\u001B[0m \u001B[0ma\u001B[0m \u001B[1;33m+\u001B[0m \u001B[0mb\u001B[0m \u001B[1;33m*\u001B[0m \u001B[0mdifX\u001B[0m \u001B[1;33m+\u001B[0m \u001B[0mc\u001B[0m \u001B[1;33m*\u001B[0m \u001B[0mdifX\u001B[0m \u001B[1;33m**\u001B[0m \u001B[1;36m2\u001B[0m \u001B[1;33m+\u001B[0m \u001B[0md\u001B[0m \u001B[1;33m*\u001B[0m \u001B[0mdifX\u001B[0m \u001B[1;33m**\u001B[0m \u001B[1;36m3\u001B[0m\u001B[1;33m\u001B[0m\u001B[1;33m\u001B[0m\u001B[0m\n\u001B[0m\u001B[0;32m     12\u001B[0m \u001B[1;33m\u001B[0m\u001B[0m\n\u001B[0;32m     13\u001B[0m     \u001B[1;32mreturn\u001B[0m \u001B[0ms_x\u001B[0m\u001B[1;33m\u001B[0m\u001B[1;33m\u001B[0m\u001B[0m\n",
      "\u001B[1;31mKeyboardInterrupt\u001B[0m: "
     ]
    },
    {
     "data": {
      "image/png": "[encoded data removed]",
      "text/plain": [
       "<Figure size 864x576 with 1 Axes>"
      ]
     },
     "metadata": {
      "needs_background": "light"
     },
     "output_type": "display_data"
    }
   ],
   "source": [
    "if __name__ == '__main__':\n",
    "    plotParagraph3()"
   ]
  },
  {
   "cell_type": "code",
   "execution_count": null,
   "id": "fe7d9c7f-c0bd-4504-958c-6df40765e618",
   "metadata": {},
   "outputs": [],
   "source": []
  }
 ],
 "metadata": {
  "kernelspec": {
   "display_name": "Python 3 (ipykernel)",
   "language": "python",
   "name": "python3"
  },
  "language_info": {
   "codemirror_mode": {
    "name": "ipython",
    "version": 3
   },
   "file_extension": ".py",
   "mimetype": "text/x-python",
   "name": "python",
   "nbconvert_exporter": "python",
   "pygments_lexer": "ipython3",
   "version": "3.9.7"
  }
 },
 "nbformat": 4,
 "nbformat_minor": 5
}